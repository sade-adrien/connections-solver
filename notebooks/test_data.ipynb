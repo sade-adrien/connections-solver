{
 "cells": [
  {
   "cell_type": "code",
   "execution_count": 21,
   "metadata": {},
   "outputs": [],
   "source": [
    "import json"
   ]
  },
  {
   "cell_type": "code",
   "execution_count": 27,
   "metadata": {},
   "outputs": [],
   "source": [
    "file_path = '../data/connections_archives.json'\n",
    "\n",
    "with open(file_path, 'r') as file:\n",
    "    data = json.load(file)"
   ]
  },
  {
   "cell_type": "code",
   "execution_count": 28,
   "metadata": {},
   "outputs": [
    {
     "data": {
      "text/plain": [
       "[{'idx': 1},\n",
       " [{'description': 'WET WEATHER', 'words': ['HAIL', 'RAIN', 'SLEET', 'SNOW']},\n",
       "  {'description': 'NBA TEAMS', 'words': ['BUCKS', 'HEAT', 'JAZZ', 'NETS']},\n",
       "  {'description': 'KEYBOARD KEYS',\n",
       "   'words': ['OPTION', 'RETURN', 'SHIFT', 'TAB']},\n",
       "  {'description': 'PALINDROMES',\n",
       "   'words': ['KAYAK', 'LEVEL', 'MOM', 'RACE CAR']}]]"
      ]
     },
     "execution_count": 28,
     "metadata": {},
     "output_type": "execute_result"
    }
   ],
   "source": [
    "data[0]"
   ]
  },
  {
   "cell_type": "code",
   "execution_count": null,
   "metadata": {},
   "outputs": [],
   "source": []
  }
 ],
 "metadata": {
  "kernelspec": {
   "display_name": "Python 3",
   "language": "python",
   "name": "python3"
  },
  "language_info": {
   "codemirror_mode": {
    "name": "ipython",
    "version": 3
   },
   "file_extension": ".py",
   "mimetype": "text/x-python",
   "name": "python",
   "nbconvert_exporter": "python",
   "pygments_lexer": "ipython3",
   "version": "3.9.6"
  }
 },
 "nbformat": 4,
 "nbformat_minor": 2
}
